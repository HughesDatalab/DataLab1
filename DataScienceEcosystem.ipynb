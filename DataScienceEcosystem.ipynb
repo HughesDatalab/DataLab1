{
 "cells": [
  {
   "cell_type": "markdown",
   "id": "753782fa-c300-4df0-b022-bd95453bad88",
   "metadata": {},
   "source": [
    "# Data Science Tools and Ecosystem"
   ]
  },
  {
   "cell_type": "markdown",
   "id": "74d7d702-57aa-4197-b10a-3f85a1e7fa92",
   "metadata": {},
   "source": [
    "In this notebook, Data Science Tools and Ecosystem are summarized.\r\n"
   ]
  },
  {
   "cell_type": "markdown",
   "id": "bf31d1bb-2e92-47b9-b91c-d52393d5c92b",
   "metadata": {},
   "source": [
    "**Objectives:**\r\n",
    "\r\n",
    "- List popular languages for Data Science.\r\n",
    "- Introduce commonly used data science libraries.\r\n",
    "- Explore arithmetic expressions and operations in Python.\r\n",
    "- Demonstrate basic arithmetic operations in Python.\r\n",
    "- Convert units of time (e.g., minutes to hours) using Python.\r\n"
   ]
  },
  {
   "cell_type": "markdown",
   "id": "39baa152-8f82-482e-9589-54d8cf9286df",
   "metadata": {},
   "source": [
    "Some of the popular languages that Data Scientists use are:\n",
    "\n",
    "1. Python\n",
    "2. R\n",
    "3. Julia\n",
    "4. Scala\n"
   ]
  },
  {
   "cell_type": "markdown",
   "id": "a8a1b64c-5a3c-49b7-abf2-079fdea1f7c2",
   "metadata": {},
   "source": [
    "Some of the commonly used libraries used by Data Scientists include:\n",
    "\n",
    "1. Pandas\n",
    "2. NumPy\n",
    "3. Seaborn\n",
    "4. Matplotlib\n",
    "5. SciPy\n",
    "6. scikit-learn \n"
   ]
  },
  {
   "cell_type": "markdown",
   "id": "9a2acbf3-35e5-4b7a-8486-a68276f95e8f",
   "metadata": {},
   "source": [
    "\r\n",
    "| Data Science Tools |\r\n",
    "|--------------------|\r\n",
    "| Jupyter Notebook   |\r\n",
    "| Google Colab       |\r\n",
    "| Visual Studio Code |\r\n"
   ]
  },
  {
   "cell_type": "markdown",
   "id": "f9f5554b-80d1-401f-b8b1-749a19cbf470",
   "metadata": {},
   "source": [
    "### Below are a few examples of evaluating arithmetic expressions in Python"
   ]
  },
  {
   "cell_type": "code",
   "execution_count": 4,
   "id": "5c81fce2-c524-4705-a364-c04877b55fff",
   "metadata": {},
   "outputs": [
    {
     "data": {
      "text/plain": [
       "17"
      ]
     },
     "execution_count": 4,
     "metadata": {},
     "output_type": "execute_result"
    }
   ],
   "source": [
    "# This is a simple arithmetic expression to multiply then add integers.\n",
    "(3 * 4) + 5"
   ]
  },
  {
   "cell_type": "code",
   "execution_count": 7,
   "id": "c3d5659a-51de-4308-bc99-d77280243e71",
   "metadata": {},
   "outputs": [
    {
     "data": {
      "text/plain": [
       "3.3333333333333335"
      ]
     },
     "execution_count": 7,
     "metadata": {},
     "output_type": "execute_result"
    }
   ],
   "source": [
    "# This will convert 200 minutes to hours by dividing by 60.\n",
    "minutes = 200\n",
    "hours = minutes / 60\n",
    "hours"
   ]
  },
  {
   "cell_type": "markdown",
   "id": "522ff4b9-47dd-4ead-81f4-62f5f4fbc732",
   "metadata": {},
   "source": [
    "## Author\n",
    "\n",
    "Hugues Lonla\n"
   ]
  },
  {
   "cell_type": "code",
   "execution_count": null,
   "id": "8db0d77f-b2e7-4161-ab58-b8ba753e0ac3",
   "metadata": {},
   "outputs": [],
   "source": []
  }
 ],
 "metadata": {
  "kernelspec": {
   "display_name": "Python 3 (ipykernel)",
   "language": "python",
   "name": "python3"
  },
  "language_info": {
   "codemirror_mode": {
    "name": "ipython",
    "version": 3
   },
   "file_extension": ".py",
   "mimetype": "text/x-python",
   "name": "python",
   "nbconvert_exporter": "python",
   "pygments_lexer": "ipython3",
   "version": "3.11.8"
  }
 },
 "nbformat": 4,
 "nbformat_minor": 5
}
